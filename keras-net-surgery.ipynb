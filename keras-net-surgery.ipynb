{
 "cells": [
  {
   "cell_type": "markdown",
   "metadata": {},
   "source": [
    "# Keras net surgery example"
   ]
  },
  {
   "cell_type": "markdown",
   "metadata": {},
   "source": [
    "### Convolution network can be translated to fully convolution network by replace fully connected layers with convolutional layers. For example we take CNN from donkeycar project https://github.com/wroscoe/donkey. This network predict the steering angle and throttle of small scale autonomous vehicle."
   ]
  },
  {
   "cell_type": "markdown",
   "metadata": {},
   "source": [
    "### Why do we want to make this translation? At least three things:\n",
    "### 1) FCN networks is independent of size of input.\n",
    "### 2) If we will use input with higher resolution than original input, we will get network predictions in few spatial locations of input, which we can avarage and obtain better predictions.\n",
    "### 3) Fully convolutional network can be finetuned for image segmentation."
   ]
  },
  {
   "cell_type": "code",
   "execution_count": 1,
   "metadata": {},
   "outputs": [
    {
     "name": "stderr",
     "output_type": "stream",
     "text": [
      "Using TensorFlow backend.\n"
     ]
    }
   ],
   "source": [
    "from keras.layers import Input, Dense, merge\n",
    "from keras.models import Model\n",
    "from keras.layers import Convolution2D, MaxPooling2D, Reshape, BatchNormalization\n",
    "from keras.layers import Activation, Dropout, Flatten, Dense\n",
    "import numpy as np"
   ]
  },
  {
   "cell_type": "code",
   "execution_count": 2,
   "metadata": {
    "collapsed": true
   },
   "outputs": [],
   "source": [
    "def default_categorical():\n",
    "    img_in = Input(shape=(120, 160, 3), name='img_in')                      # First layer, input layer, Shape comes from camera.py resolution, RGB\n",
    "    x = img_in\n",
    "    x = Convolution2D(24, (5,5), strides=(2,2), activation='relu', name = 'conv1')(x)       # 24 features, 5 pixel x 5 pixel kernel (convolution, feauture) window, 2wx2h stride, relu activation\n",
    "    x = Convolution2D(32, (5,5), strides=(2,2), activation='relu', name = 'conv2')(x)       # 32 features, 5px5p kernel window, 2wx2h stride, relu activatiion\n",
    "    x = Convolution2D(64, (5,5), strides=(2,2), activation='relu', name = 'conv3')(x)       # 64 features, 5px5p kernal window, 2wx2h stride, relu\n",
    "    x = Convolution2D(64, (3,3), strides=(2,2), activation='relu', name = 'conv4')(x)       # 64 features, 3px3p kernal window, 2wx2h stride, relu\n",
    "    x = Convolution2D(64, (3,3), strides=(1,1), activation='relu', name = 'conv5')(x)       # 64 features, 3px3p kernal window, 1wx1h stride, relu\n",
    "\n",
    "    # Possibly add MaxPooling (will make it less sensitive to position in image).  Camera angle fixed, so may not to be needed\n",
    "\n",
    "    x = Flatten(name='flattened')(x)                                        # Flatten to 1D (Fully connected)\n",
    "    x = Dense(100, activation='relu', name = 'dense1')(x)                                    # Classify the data into 100 features, make all negatives 0\n",
    "    x = Dropout(.1)(x)                                                      # Randomly drop out (turn off) 10% of the neurons (Prevent overfitting)\n",
    "    x = Dense(50, activation='relu', name = 'dense2')(x)                                     # Classify the data into 50 features, make all negatives 0\n",
    "    x = Dropout(.1)(x)                                                      # Randomly drop out 10% of the neurons (Prevent overfitting)\n",
    "    #categorical output of the angle\n",
    "    angle_out = Dense(15, activation='softmax', name='angle_out')(x)        # Connect every input with every output and output 15 hidden units. Use Softmax to give percentage. 15 categories and find best one based off percentage 0.0-1.0\n",
    "    \n",
    "    #continous output of throttle\n",
    "    throttle_out = Dense(1, activation='relu', name='throttle_out')(x)      # Reduce to 1 number, Positive number only\n",
    "    \n",
    "    model = Model(inputs=[img_in], outputs=[angle_out, throttle_out])\n",
    "  \n",
    "    return model"
   ]
  },
  {
   "cell_type": "markdown",
   "metadata": {},
   "source": [
    "#### This network take the input images with shape (120, 160, 3) and output the distribution over 15 possible steering angles of vehicle and throttle."
   ]
  },
  {
   "cell_type": "markdown",
   "metadata": {},
   "source": [
    "#### Now let's load the pretrained model weights and print network structure."
   ]
  },
  {
   "cell_type": "code",
   "execution_count": 3,
   "metadata": {
    "collapsed": true
   },
   "outputs": [],
   "source": [
    "model = default_categorical()"
   ]
  },
  {
   "cell_type": "code",
   "execution_count": 4,
   "metadata": {},
   "outputs": [],
   "source": [
    "model.load_weights('weights.h5')"
   ]
  },
  {
   "cell_type": "code",
   "execution_count": 5,
   "metadata": {},
   "outputs": [
    {
     "data": {
      "text/plain": [
       "{'input_layers': [['img_in', 0, 0]],\n",
       " 'layers': [{'class_name': 'InputLayer',\n",
       "   'config': {'batch_input_shape': (None, 120, 160, 3),\n",
       "    'dtype': 'float32',\n",
       "    'name': 'img_in',\n",
       "    'sparse': False},\n",
       "   'inbound_nodes': [],\n",
       "   'name': 'img_in'},\n",
       "  {'class_name': 'Conv2D',\n",
       "   'config': {'activation': 'relu',\n",
       "    'activity_regularizer': None,\n",
       "    'bias_constraint': None,\n",
       "    'bias_initializer': {'class_name': 'Zeros', 'config': {}},\n",
       "    'bias_regularizer': None,\n",
       "    'data_format': 'channels_last',\n",
       "    'dilation_rate': (1, 1),\n",
       "    'filters': 24,\n",
       "    'kernel_constraint': None,\n",
       "    'kernel_initializer': {'class_name': 'VarianceScaling',\n",
       "     'config': {'distribution': 'uniform',\n",
       "      'mode': 'fan_avg',\n",
       "      'scale': 1.0,\n",
       "      'seed': None}},\n",
       "    'kernel_regularizer': None,\n",
       "    'kernel_size': (5, 5),\n",
       "    'name': 'conv1',\n",
       "    'padding': 'valid',\n",
       "    'strides': (2, 2),\n",
       "    'trainable': True,\n",
       "    'use_bias': True},\n",
       "   'inbound_nodes': [[['img_in', 0, 0, {}]]],\n",
       "   'name': 'conv1'},\n",
       "  {'class_name': 'Conv2D',\n",
       "   'config': {'activation': 'relu',\n",
       "    'activity_regularizer': None,\n",
       "    'bias_constraint': None,\n",
       "    'bias_initializer': {'class_name': 'Zeros', 'config': {}},\n",
       "    'bias_regularizer': None,\n",
       "    'data_format': 'channels_last',\n",
       "    'dilation_rate': (1, 1),\n",
       "    'filters': 32,\n",
       "    'kernel_constraint': None,\n",
       "    'kernel_initializer': {'class_name': 'VarianceScaling',\n",
       "     'config': {'distribution': 'uniform',\n",
       "      'mode': 'fan_avg',\n",
       "      'scale': 1.0,\n",
       "      'seed': None}},\n",
       "    'kernel_regularizer': None,\n",
       "    'kernel_size': (5, 5),\n",
       "    'name': 'conv2',\n",
       "    'padding': 'valid',\n",
       "    'strides': (2, 2),\n",
       "    'trainable': True,\n",
       "    'use_bias': True},\n",
       "   'inbound_nodes': [[['conv1', 0, 0, {}]]],\n",
       "   'name': 'conv2'},\n",
       "  {'class_name': 'Conv2D',\n",
       "   'config': {'activation': 'relu',\n",
       "    'activity_regularizer': None,\n",
       "    'bias_constraint': None,\n",
       "    'bias_initializer': {'class_name': 'Zeros', 'config': {}},\n",
       "    'bias_regularizer': None,\n",
       "    'data_format': 'channels_last',\n",
       "    'dilation_rate': (1, 1),\n",
       "    'filters': 64,\n",
       "    'kernel_constraint': None,\n",
       "    'kernel_initializer': {'class_name': 'VarianceScaling',\n",
       "     'config': {'distribution': 'uniform',\n",
       "      'mode': 'fan_avg',\n",
       "      'scale': 1.0,\n",
       "      'seed': None}},\n",
       "    'kernel_regularizer': None,\n",
       "    'kernel_size': (5, 5),\n",
       "    'name': 'conv3',\n",
       "    'padding': 'valid',\n",
       "    'strides': (2, 2),\n",
       "    'trainable': True,\n",
       "    'use_bias': True},\n",
       "   'inbound_nodes': [[['conv2', 0, 0, {}]]],\n",
       "   'name': 'conv3'},\n",
       "  {'class_name': 'Conv2D',\n",
       "   'config': {'activation': 'relu',\n",
       "    'activity_regularizer': None,\n",
       "    'bias_constraint': None,\n",
       "    'bias_initializer': {'class_name': 'Zeros', 'config': {}},\n",
       "    'bias_regularizer': None,\n",
       "    'data_format': 'channels_last',\n",
       "    'dilation_rate': (1, 1),\n",
       "    'filters': 64,\n",
       "    'kernel_constraint': None,\n",
       "    'kernel_initializer': {'class_name': 'VarianceScaling',\n",
       "     'config': {'distribution': 'uniform',\n",
       "      'mode': 'fan_avg',\n",
       "      'scale': 1.0,\n",
       "      'seed': None}},\n",
       "    'kernel_regularizer': None,\n",
       "    'kernel_size': (3, 3),\n",
       "    'name': 'conv4',\n",
       "    'padding': 'valid',\n",
       "    'strides': (2, 2),\n",
       "    'trainable': True,\n",
       "    'use_bias': True},\n",
       "   'inbound_nodes': [[['conv3', 0, 0, {}]]],\n",
       "   'name': 'conv4'},\n",
       "  {'class_name': 'Conv2D',\n",
       "   'config': {'activation': 'relu',\n",
       "    'activity_regularizer': None,\n",
       "    'bias_constraint': None,\n",
       "    'bias_initializer': {'class_name': 'Zeros', 'config': {}},\n",
       "    'bias_regularizer': None,\n",
       "    'data_format': 'channels_last',\n",
       "    'dilation_rate': (1, 1),\n",
       "    'filters': 64,\n",
       "    'kernel_constraint': None,\n",
       "    'kernel_initializer': {'class_name': 'VarianceScaling',\n",
       "     'config': {'distribution': 'uniform',\n",
       "      'mode': 'fan_avg',\n",
       "      'scale': 1.0,\n",
       "      'seed': None}},\n",
       "    'kernel_regularizer': None,\n",
       "    'kernel_size': (3, 3),\n",
       "    'name': 'conv5',\n",
       "    'padding': 'valid',\n",
       "    'strides': (1, 1),\n",
       "    'trainable': True,\n",
       "    'use_bias': True},\n",
       "   'inbound_nodes': [[['conv4', 0, 0, {}]]],\n",
       "   'name': 'conv5'},\n",
       "  {'class_name': 'Flatten',\n",
       "   'config': {'name': 'flattened', 'trainable': True},\n",
       "   'inbound_nodes': [[['conv5', 0, 0, {}]]],\n",
       "   'name': 'flattened'},\n",
       "  {'class_name': 'Dense',\n",
       "   'config': {'activation': 'relu',\n",
       "    'activity_regularizer': None,\n",
       "    'bias_constraint': None,\n",
       "    'bias_initializer': {'class_name': 'Zeros', 'config': {}},\n",
       "    'bias_regularizer': None,\n",
       "    'kernel_constraint': None,\n",
       "    'kernel_initializer': {'class_name': 'VarianceScaling',\n",
       "     'config': {'distribution': 'uniform',\n",
       "      'mode': 'fan_avg',\n",
       "      'scale': 1.0,\n",
       "      'seed': None}},\n",
       "    'kernel_regularizer': None,\n",
       "    'name': 'dense1',\n",
       "    'trainable': True,\n",
       "    'units': 100,\n",
       "    'use_bias': True},\n",
       "   'inbound_nodes': [[['flattened', 0, 0, {}]]],\n",
       "   'name': 'dense1'},\n",
       "  {'class_name': 'Dropout',\n",
       "   'config': {'name': 'dropout_1', 'rate': 0.1, 'trainable': True},\n",
       "   'inbound_nodes': [[['dense1', 0, 0, {}]]],\n",
       "   'name': 'dropout_1'},\n",
       "  {'class_name': 'Dense',\n",
       "   'config': {'activation': 'relu',\n",
       "    'activity_regularizer': None,\n",
       "    'bias_constraint': None,\n",
       "    'bias_initializer': {'class_name': 'Zeros', 'config': {}},\n",
       "    'bias_regularizer': None,\n",
       "    'kernel_constraint': None,\n",
       "    'kernel_initializer': {'class_name': 'VarianceScaling',\n",
       "     'config': {'distribution': 'uniform',\n",
       "      'mode': 'fan_avg',\n",
       "      'scale': 1.0,\n",
       "      'seed': None}},\n",
       "    'kernel_regularizer': None,\n",
       "    'name': 'dense2',\n",
       "    'trainable': True,\n",
       "    'units': 50,\n",
       "    'use_bias': True},\n",
       "   'inbound_nodes': [[['dropout_1', 0, 0, {}]]],\n",
       "   'name': 'dense2'},\n",
       "  {'class_name': 'Dropout',\n",
       "   'config': {'name': 'dropout_2', 'rate': 0.1, 'trainable': True},\n",
       "   'inbound_nodes': [[['dense2', 0, 0, {}]]],\n",
       "   'name': 'dropout_2'},\n",
       "  {'class_name': 'Dense',\n",
       "   'config': {'activation': 'softmax',\n",
       "    'activity_regularizer': None,\n",
       "    'bias_constraint': None,\n",
       "    'bias_initializer': {'class_name': 'Zeros', 'config': {}},\n",
       "    'bias_regularizer': None,\n",
       "    'kernel_constraint': None,\n",
       "    'kernel_initializer': {'class_name': 'VarianceScaling',\n",
       "     'config': {'distribution': 'uniform',\n",
       "      'mode': 'fan_avg',\n",
       "      'scale': 1.0,\n",
       "      'seed': None}},\n",
       "    'kernel_regularizer': None,\n",
       "    'name': 'angle_out',\n",
       "    'trainable': True,\n",
       "    'units': 15,\n",
       "    'use_bias': True},\n",
       "   'inbound_nodes': [[['dropout_2', 0, 0, {}]]],\n",
       "   'name': 'angle_out'},\n",
       "  {'class_name': 'Dense',\n",
       "   'config': {'activation': 'relu',\n",
       "    'activity_regularizer': None,\n",
       "    'bias_constraint': None,\n",
       "    'bias_initializer': {'class_name': 'Zeros', 'config': {}},\n",
       "    'bias_regularizer': None,\n",
       "    'kernel_constraint': None,\n",
       "    'kernel_initializer': {'class_name': 'VarianceScaling',\n",
       "     'config': {'distribution': 'uniform',\n",
       "      'mode': 'fan_avg',\n",
       "      'scale': 1.0,\n",
       "      'seed': None}},\n",
       "    'kernel_regularizer': None,\n",
       "    'name': 'throttle_out',\n",
       "    'trainable': True,\n",
       "    'units': 1,\n",
       "    'use_bias': True},\n",
       "   'inbound_nodes': [[['dropout_2', 0, 0, {}]]],\n",
       "   'name': 'throttle_out'}],\n",
       " 'name': 'model_1',\n",
       " 'output_layers': [['angle_out', 0, 0], ['throttle_out', 0, 0]]}"
      ]
     },
     "execution_count": 5,
     "metadata": {},
     "output_type": "execute_result"
    }
   ],
   "source": [
    "model.get_config()"
   ]
  },
  {
   "cell_type": "markdown",
   "metadata": {},
   "source": [
    "### Now let's construct FCNN equiualent"
   ]
  },
  {
   "cell_type": "code",
   "execution_count": 6,
   "metadata": {
    "collapsed": true
   },
   "outputs": [],
   "source": [
    "img_in = Input(shape=(None, None, 3), name='img_in')\n",
    "x = img_in\n",
    "x = Convolution2D(24, (5,5), strides=(2,2), activation='relu', name = 'fcn_conv1')(x)\n",
    "x = Convolution2D(32, (5,5), strides=(2,2), activation='relu', name = 'fcn_conv2')(x)\n",
    "x = Convolution2D(64, (5,5), strides=(2,2), activation='relu', name = 'fcn_conv3')(x)\n",
    "x = Convolution2D(64, (3,3), strides=(2,2), activation='relu', name = 'fcn_conv4')(x)\n",
    "x = Convolution2D(64, (3,3), strides=(1,1), activation='relu', name = 'fcn_conv5')(x)"
   ]
  },
  {
   "cell_type": "markdown",
   "metadata": {},
   "source": [
    "#### To replace first FC layer with convolution layer we just need to compute the filter shape and number of filters so that output shape of new conv layer be equal to output of FC layer"
   ]
  },
  {
   "cell_type": "markdown",
   "metadata": {},
   "source": [
    "#### Input of 'dense1' layer has input shape"
   ]
  },
  {
   "cell_type": "code",
   "execution_count": 7,
   "metadata": {},
   "outputs": [
    {
     "data": {
      "text/plain": [
       "(1, 1152)"
      ]
     },
     "execution_count": 7,
     "metadata": {},
     "output_type": "execute_result"
    }
   ],
   "source": [
    "model.get_layer(name='flattened').compute_output_shape((1, 3, 6, 64))"
   ]
  },
  {
   "cell_type": "markdown",
   "metadata": {},
   "source": [
    "#### output of 'dense1' layer has shape"
   ]
  },
  {
   "cell_type": "code",
   "execution_count": 8,
   "metadata": {},
   "outputs": [
    {
     "data": {
      "text/plain": [
       "(1, 100)"
      ]
     },
     "execution_count": 8,
     "metadata": {},
     "output_type": "execute_result"
    }
   ],
   "source": [
    "model.get_layer(name='dense1').compute_output_shape((1, 1152))"
   ]
  },
  {
   "cell_type": "markdown",
   "metadata": {},
   "source": [
    "#### In our new model we remove 'flattened' layer so the input of our new conv layer 'fcn_conv6' has shape of layer 'conv5' output  = (1, 3, 6, 64). And we already know that output of 'fcn_conv6' must be equal of output 'dense1' layer. So we can compute the shape of convolution filters."
   ]
  },
  {
   "cell_type": "code",
   "execution_count": 9,
   "metadata": {
    "collapsed": true
   },
   "outputs": [],
   "source": [
    "x = Convolution2D(100, (3,6), strides=1, activation='relu', name = 'fcn_conv6')(x)"
   ]
  },
  {
   "cell_type": "markdown",
   "metadata": {},
   "source": [
    "#### Similarly we can compute filters shape of remaining layers"
   ]
  },
  {
   "cell_type": "code",
   "execution_count": 10,
   "metadata": {
    "collapsed": true
   },
   "outputs": [],
   "source": [
    "x = Convolution2D(50, (1,1), strides=1, activation='relu', name = 'fcn_conv7')(x)\n",
    "angle_out = Convolution2D(15, (1,1), strides=1, activation='softmax', name='angle_out')(x)\n",
    "throttle_out = Convolution2D(1,  (1,1), strides=1, activation='relu', name='throttle_out')(x)"
   ]
  },
  {
   "cell_type": "code",
   "execution_count": 11,
   "metadata": {
    "collapsed": true
   },
   "outputs": [],
   "source": [
    "fcn_model = Model(inputs=[img_in], outputs=[angle_out, throttle_out])"
   ]
  },
  {
   "cell_type": "markdown",
   "metadata": {},
   "source": [
    "### Now let's set weights to new FCNN model"
   ]
  },
  {
   "cell_type": "markdown",
   "metadata": {},
   "source": [
    "#### At first we simply set weights to top 5 conv layers because this weights don't need to be reshaped"
   ]
  },
  {
   "cell_type": "code",
   "execution_count": 12,
   "metadata": {
    "collapsed": true
   },
   "outputs": [],
   "source": [
    "for i in range(1, 6):\n",
    "    fcn_model.get_layer('fcn_conv%s'%i).set_weights(model.get_layer('conv%s'%i).get_weights())"
   ]
  },
  {
   "cell_type": "markdown",
   "metadata": {},
   "source": [
    "#### Next we need to set weights to 'fcn_conv6' which replaced 'dense1' layer from original network."
   ]
  },
  {
   "cell_type": "markdown",
   "metadata": {},
   "source": [
    "#### To do that we need to reshape weights of 'dense1' layer to shape of weight of folters of 'fcn_conv6'"
   ]
  },
  {
   "cell_type": "code",
   "execution_count": 13,
   "metadata": {},
   "outputs": [
    {
     "name": "stdout",
     "output_type": "stream",
     "text": [
      "Shape of dense1: (1152, 100)\n",
      "Shape of fcn_conv7: (3, 6, 64, 100)\n"
     ]
    }
   ],
   "source": [
    "dense_1_weights = model.get_layer('dense1').get_weights()\n",
    "print('Shape of dense1: %s' % str(dense_1_weights[0].shape))\n",
    "print('Shape of fcn_conv7: %s' % str((3, 6, 64, 100)))"
   ]
  },
  {
   "cell_type": "markdown",
   "metadata": {},
   "source": [
    "#### Just reshape weights and set to 'fcn_conv6' layer"
   ]
  },
  {
   "cell_type": "code",
   "execution_count": 14,
   "metadata": {
    "collapsed": true
   },
   "outputs": [],
   "source": [
    "fcn_conv6_weights = np.reshape(dense_1_weights[0], (3, 6, 64, 100))\n",
    "fcn_model.get_layer('fcn_conv6').set_weights([fcn_conv6_weights, dense_1_weights[1]])"
   ]
  },
  {
   "cell_type": "markdown",
   "metadata": {},
   "source": [
    "#### Similarily set weights to remaining layers"
   ]
  },
  {
   "cell_type": "code",
   "execution_count": 15,
   "metadata": {
    "collapsed": true
   },
   "outputs": [],
   "source": [
    "dense_2_weights = model.get_layer('dense2').get_weights()\n",
    "fcn_model.get_layer('fcn_conv7').set_weights([np.reshape(dense_2_weights[0], (1, 1, 100, 50)), dense_2_weights[1]])\n",
    "\n",
    "angle_out_weights = model.get_layer('angle_out').get_weights()\n",
    "fcn_model.get_layer('angle_out').set_weights([np.reshape(angle_out_weights[0], (1, 1, 50, 15)), angle_out_weights[1]])\n",
    "\n",
    "throttle_out_weights = model.get_layer('throttle_out').get_weights()\n",
    "fcn_model.get_layer('throttle_out').set_weights([np.reshape(throttle_out_weights[0], (1, 1, 50, 1)), throttle_out_weights[1]])"
   ]
  },
  {
   "cell_type": "markdown",
   "metadata": {},
   "source": [
    "### Now lets test the result"
   ]
  },
  {
   "cell_type": "code",
   "execution_count": 16,
   "metadata": {
    "collapsed": true
   },
   "outputs": [],
   "source": [
    "def linear_unbin(arr):\n",
    "    b = np.argmax(arr)\n",
    "    a = b *(2/14) - 1\n",
    "    return a"
   ]
  },
  {
   "cell_type": "code",
   "execution_count": 17,
   "metadata": {
    "collapsed": true
   },
   "outputs": [],
   "source": [
    "import cv2\n",
    "test_img = cv2.imread('imgs/1_cam-image_array_.jpg')"
   ]
  },
  {
   "cell_type": "code",
   "execution_count": 18,
   "metadata": {},
   "outputs": [
    {
     "data": {
      "text/plain": [
       "<matplotlib.image.AxesImage at 0x7f3593785278>"
      ]
     },
     "execution_count": 18,
     "metadata": {},
     "output_type": "execute_result"
    },
    {
     "data": {
      "image/png": "[encoded data removed]",
      "text/plain": [
       "<matplotlib.figure.Figure at 0x7f360802b860>"
      ]
     },
     "metadata": {},
     "output_type": "display_data"
    }
   ],
   "source": [
    "from matplotlib import pyplot as plt\n",
    "%matplotlib inline\n",
    "plt.imshow(test_img)"
   ]
  },
  {
   "cell_type": "markdown",
   "metadata": {},
   "source": [
    "#### Model prediction comparision"
   ]
  },
  {
   "cell_type": "code",
   "execution_count": 19,
   "metadata": {},
   "outputs": [],
   "source": [
    "original_prediction = model.predict(np.array([test_img]))\n",
    "fcn_prediction = fcn_model.predict(np.array([test_img]))"
   ]
  },
  {
   "cell_type": "code",
   "execution_count": 21,
   "metadata": {},
   "outputs": [
    {
     "name": "stdout",
     "output_type": "stream",
     "text": [
      "Prediction of original model: angle = -0.571429, throttle = 0.302568\n",
      "Prediction of FCN model: angle = -0.571429, throttle = 0.302568\n"
     ]
    }
   ],
   "source": [
    "print('Prediction of original model: angle = %f, throttle = %f' % \\\n",
    "      (linear_unbin(original_prediction[0]), original_prediction[1]))\n",
    "print('Prediction of FCN model: angle = %f, throttle = %f' % \\\n",
    "      (linear_unbin(fcn_prediction[0]), fcn_prediction[1]))"
   ]
  },
  {
   "cell_type": "markdown",
   "metadata": {},
   "source": [
    "## As expected outputs are identical!"
   ]
  }
 ],
 "metadata": {
  "kernelspec": {
   "display_name": "Python 3",
   "language": "python",
   "name": "python3"
  },
  "language_info": {
   "codemirror_mode": {
    "name": "ipython",
    "version": 3
   },
   "file_extension": ".py",
   "mimetype": "text/x-python",
   "name": "python",
   "nbconvert_exporter": "python",
   "pygments_lexer": "ipython3",
   "version": "3.6.0"
  }
 },
 "nbformat": 4,
 "nbformat_minor": 2
}
